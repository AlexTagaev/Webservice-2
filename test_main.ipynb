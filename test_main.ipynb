{
 "cells": [
  {
   "cell_type": "code",
   "execution_count": 2,
   "metadata": {},
   "outputs": [
    {
     "name": "stdout",
     "output_type": "stream",
     "text": [
      "{\"message\":\"Hello FastAPI\"}\n"
     ]
    }
   ],
   "source": [
    "import requests\n",
    "response = requests.get('http://127.0.0.1:8000/')\n",
    "print(response.text)"
   ]
  },
  {
   "cell_type": "code",
   "execution_count": 2,
   "metadata": {},
   "outputs": [
    {
     "name": "stdout",
     "output_type": "stream",
     "text": [
      "{\"message\":\"Страница с описанием проекта\"}\n"
     ]
    }
   ],
   "source": [
    "response = requests.get('http://127.0.0.1:8000/about')\n",
    "print(response.text)"
   ]
  },
  {
   "cell_type": "code",
   "execution_count": 3,
   "metadata": {},
   "outputs": [
    {
     "name": "stdout",
     "output_type": "stream",
     "text": [
      "{\"Вы ввели user_id\":\"123\"}\n"
     ]
    }
   ],
   "source": [
    "response = requests.get('http://127.0.0.1:8000/users/123')\n",
    "print(response.text)"
   ]
  },
  {
   "cell_type": "code",
   "execution_count": 4,
   "metadata": {},
   "outputs": [
    {
     "name": "stdout",
     "output_type": "stream",
     "text": [
      "{\"answer\":\"Пользователь Ivan - Programmer, возраст 25 лет\"}\n"
     ]
    }
   ],
   "source": [
    "param = {\n",
    "    'name': 'Ivan',\n",
    "    'description': 'Programmer',\n",
    "    'old': 25\n",
    "}\n",
    "response = requests.post('http://127.0.0.1:8000/users', json = param)\n",
    "print(response.text)"
   ]
  },
  {
   "cell_type": "code",
   "execution_count": 5,
   "metadata": {},
   "outputs": [
    {
     "name": "stdout",
     "output_type": "stream",
     "text": [
      "{\"result\":30.0}\n"
     ]
    }
   ],
   "source": [
    "# запрос для калькулятора\n",
    "param = {\n",
    "    'a': 10,\n",
    "    'b': 20\n",
    "}\n",
    "response = requests.post('http://127.0.0.1:8000/add', json=param)\n",
    "print(response.text)"
   ]
  },
  {
   "cell_type": "code",
   "execution_count": 2,
   "metadata": {},
   "outputs": [
    {
     "name": "stdout",
     "output_type": "stream",
     "text": [
      "('{\"message\":\"Наша компания Simble является IT-компанией, предоставляющей '\n",
      " 'страховые услуги на короткий период. Мы предлагаем три варианта страховки '\n",
      " 'автомобилей: страховка на время поездки, страховка на время парковки и '\n",
      " 'страховка на количество километров в пути. Также мы сотрудничаем с надежными '\n",
      " 'партнерами, такими как ООО \\\\\"Зетта Страхование\\\\\" и САО \\\\\"ВСК\\\\\", которые '\n",
      " 'предоставляют страховые услуги на рынке более 30 лет.\"}')\n"
     ]
    }
   ],
   "source": [
    "import requests\n",
    "import pprint\n",
    "param = {\n",
    "    'text': 'Чем занимается ваша компания?'\n",
    "}\n",
    "response = requests.post('http://127.0.0.1:8000/api/get_answer', json = param)\n",
    "pprint.pprint(response.text)"
   ]
  }
 ],
 "metadata": {
  "kernelspec": {
   "display_name": ".venv",
   "language": "python",
   "name": "python3"
  },
  "language_info": {
   "codemirror_mode": {
    "name": "ipython",
    "version": 3
   },
   "file_extension": ".py",
   "mimetype": "text/x-python",
   "name": "python",
   "nbconvert_exporter": "python",
   "pygments_lexer": "ipython3",
   "version": "3.12.7"
  }
 },
 "nbformat": 4,
 "nbformat_minor": 2
}
