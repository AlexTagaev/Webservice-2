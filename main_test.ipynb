{
 "cells": [
  {
   "cell_type": "code",
   "execution_count": 1,
   "metadata": {},
   "outputs": [
    {
     "name": "stdout",
     "output_type": "stream",
     "text": [
      "[\"Hello, it`s test\"]\n"
     ]
    }
   ],
   "source": [
    "import requests\n",
    "\n",
    "response = requests.post('http://127.0.0.1:8000/test')\n",
    "print(response.text)"
   ]
  },
  {
   "cell_type": "code",
   "execution_count": 3,
   "metadata": {},
   "outputs": [
    {
     "name": "stdout",
     "output_type": "stream",
     "text": [
      "{\"answer\":\"Пользователь Ivan - Python developer, возраст 25 лет.\"}\n"
     ]
    }
   ],
   "source": [
    "param = {\n",
    "    'name': 'Ivan',\n",
    "    'description': 'Python developer',\n",
    "    'old': 25\n",
    "}\n",
    "response = requests.post('http://127.0.0.1:8000/users', json=param)\n",
    "print(response.text)"
   ]
  }
 ],
 "metadata": {
  "kernelspec": {
   "display_name": ".venv",
   "language": "python",
   "name": "python3"
  },
  "language_info": {
   "codemirror_mode": {
    "name": "ipython",
    "version": 3
   },
   "file_extension": ".py",
   "mimetype": "text/x-python",
   "name": "python",
   "nbconvert_exporter": "python",
   "pygments_lexer": "ipython3",
   "version": "3.12.7"
  }
 },
 "nbformat": 4,
 "nbformat_minor": 2
}
